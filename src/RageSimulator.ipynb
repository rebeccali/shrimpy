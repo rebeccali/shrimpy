{
 "cells": [
  {
   "cell_type": "markdown",
   "metadata": {},
   "source": [
    "# RageSimulator\n",
    "This simulator is written in rage against how awful the original Piccolissimo simulator is, and rewriting it. \n",
    "\n",
    "## Relevant Equations \n",
    "\n",
    "### Newton-Euler (equations 2.2 and 2.3)\n",
    "$$\\mathbf{\\dot{v}^I_F} = (\\mathbf{f_{aero}} + m \\mathbf{g} - m \\mathbf{\\omega^{FI} }\\times \\mathbf{v^I_F})$$\n",
    "\n",
    "$$\\mathbf{\\dot{\\omega}^{FI}} = \\mathbf{I}^{-1}(\\mathbf{\\tau_{aero}} - \\mathbf{\\omega^{FI} }\\times \\mathbf{I\\omega^{BI}})$$\n",
    "\n",
    "* $v_F^I$ is velocity of the center of mass of flyer frame in inertial/world frame\n",
    "* $\\mathbf{\\omega^{FI} } = [p\\ q\\ r]^T$ is the angular velocity of flyer frame w.r.t. inertial\n",
    "* $\\mathbf{\\omega^{BI} }$ is the angular velocity of body frame wrt inertial (same as flyer but with rotation about z axis).\n",
    "\n",
    "\n",
    "\n",
    "\n",
    "### Blade Equations (equations 3.8)\n",
    "$$[v_E^I]^E = \\mathbf{R^E_F}[v^I_F]^F + \\mathbf{R^E_F}[\\omega^{SF}]^F \\times \\mathbf{R^E_F} [S_{EF}]^F + \\mathbf{R^E_F}[\\nu]^F$$\n",
    "$$\\gamma = arctan(\\frac{[v_E^I]^E [\\hat{z}]^E}{[v_E^I]^P [\\hat{x}]^E})$$\n",
    "\n",
    "\n",
    "* $[\\nu]^F = [0\\ 0\\ \\nu]^T$ is induced inflow velocity\n",
    "* $\\nu$ is the induced inflow velocity (Equation 3.1, thesis p.52)\n",
    "* $[v_E^I]^E$ is the relative wing in the propeller frame.\n",
    "The origin of the vehicle is unclear, but:\n",
    "\n",
    "\n",
    "## Code parameters\n",
    "\n",
    "* camelCase unless stated otherwise\n",
    "* Underscores for frames or for subscripts\n"
   ]
  },
  {
   "cell_type": "code",
   "execution_count": 1,
   "metadata": {},
   "outputs": [],
   "source": [
    "%matplotlib inline\n",
    "import numpy as np \n",
    "from scipy.spatial.transform import Rotation as R"
   ]
  },
  {
   "cell_type": "code",
   "execution_count": 90,
   "metadata": {},
   "outputs": [
    {
     "name": "stdout",
     "output_type": "stream",
     "text": [
      "propellor angle 3.141592653589793\n",
      "gamma -7.125016348901798\n",
      "relwind [ 1.6000000e+01 -1.2246468e-15 -2.0000000e+00]\n"
     ]
    }
   ],
   "source": [
    "bodyEulerAngles_w = np.pi/180*np.array([0,0,0])\n",
    "rot_flyer2world = R.from_euler('xyz', bodyEulerAngles_w).as_dcm() # TODO: check this\n",
    "totalNumBlades = 2\n",
    "bladeRadius = 0.1\n",
    "bladeIndex = 1\n",
    "vel_cg2w_w = np.array([10, 0, 0])\n",
    "angvel_b2w_w = np.array([0.0, 0.0, 50.0])\n",
    "inflowVelocity = 2 # TODO nu\n",
    "height_element2ref = 0.1 # TODO\n",
    "prop_angvel = 10\n",
    "\n",
    "def getRelativeWind(bladeIndex, totalNumBlades, bladeRadius, vel_cg2w_w, \n",
    "                    rot_flyer2world, angvel_b2w_w, inflowVelocity, height_element2ref,\n",
    "                    prop_angvel):\n",
    "    \"\"\"\n",
    "    _e is prop element frame\n",
    "    _f is flyer frame\n",
    "    _w is world/inertial frame\n",
    "    TODO: inflow\n",
    "    \"\"\"\n",
    "\n",
    "    # Inflow velocity is only coming from the top of the disc, so \n",
    "    # it is always in the positive z direction \n",
    "    vel_inducedInflow_e = np.array([0, 0, inflowVelocity])\n",
    "    \n",
    "    \n",
    "    # Velocity of the flyer from the center of gravity moving forward\n",
    "    # which is simply the negative of the cg velocity in the flyer frame \n",
    "    rotation_flyer2world = R.from_dcm(rot_flyer2world)\n",
    "    euler_flyer2world = rotation_flyer2world.as_euler('xyz')\n",
    "    # Get yaw from euler angles of flyer from world\n",
    "    yaw = euler_flyer2world[2] # 3rd angle is yaw \n",
    "    propellor_angle = bladeIndex/totalNumBlades*2*np.pi + yaw\n",
    "    \n",
    "    rot_flyer2prop = R.from_euler('z', propellor_angle).as_dcm()\n",
    "    \n",
    "    rot_world2flyer = np.transpose(rot_flyer2world)\n",
    "    vel_flyer2world_f = rot_world2flyer.dot(vel_cg2w_w)\n",
    "    vel_flyer2world_e = rot_flyer2prop.dot(vel_flyer2world_f)\n",
    "\n",
    "    \n",
    "    \n",
    "    # Velocity from rotational component\n",
    "    # First calculate wxr=v in the flyer frame \n",
    "    # Then rotate v to the propellor frame \n",
    "    \n",
    "    angvel_b2w_f = rot_world2flyer.dot(angvel_b2w_w).dot(rot_flyer2world)\n",
    "    \n",
    "    pos_x_blade = bladeRadius*np.sin(propellor_angle)\n",
    "    pos_y_blade = bladeRadius*np.cos(propellor_angle)\n",
    "    # I think sin and cos should be switched, but seems to work\n",
    "    # like this. TODO: figure out. \n",
    "    r_cg2propElement_f = np.array([pos_x_blade, pos_y_blade, height_element2ref])\n",
    "    \n",
    "    \n",
    "    angvel_spin_f = np.array([0, 0, prop_angvel])\n",
    "    # Total angular velocity of the propellor is body + prop\n",
    "    angvel_prop_f = angvel_b2w_f + angvel_spin_f\n",
    "    vel_spin_f = np.cross(angvel_prop_f, r_cg2propElement_f)\n",
    "    vel_spin_e = rot_flyer2prop.dot(vel_spin_f)\n",
    "    \n",
    "    # Sum all forces together\n",
    "    relativeWind_e = -(vel_flyer2world_e + vel_inducedInflow_e + vel_spin_e)\n",
    "    relWindAngleGamma = np.arctan2(relativeWind_e[2], relativeWind_e[0])\n",
    "\n",
    "    return (relativeWind_e, relWindAngleGamma)\n",
    "\n",
    "\n",
    "# Using XYZ euler angles such that the last angle Z is the correct psi angle\n",
    "\n",
    "(relWind, gamma) = getRelativeWind(bladeIndex, totalNumBlades, bladeRadius, vel_cg2w_w, \n",
    "                    rot_flyer2world, angvel_b2w_w, inflowVelocity, height_element2ref, \n",
    "                                    prop_angvel)\n",
    "\n",
    "print('gamma', gamma*180/np.pi)\n",
    "print('relwind', relWind)"
   ]
  },
  {
   "cell_type": "code",
   "execution_count": null,
   "metadata": {},
   "outputs": [],
   "source": []
  },
  {
   "cell_type": "code",
   "execution_count": 65,
   "metadata": {},
   "outputs": [
    {
     "data": {
      "text/plain": [
       "(1.7768573916115207, 12.182258696282728, 0.7853981633974483)"
      ]
     },
     "execution_count": 65,
     "metadata": {},
     "output_type": "execute_result"
    }
   ],
   "source": [
    "\n",
    "def piccoliGetRelWind(vel_cg2w_w, bodyEulerAngles_w, bladeIndex, \n",
    "                      totalNumBlades, rot_flyer2world, inflowVelocity, bladeRadius,\n",
    "                      height_element2ref):\n",
    "    #calculate relative wind\n",
    "    rot_world2flyer = np.transpose(rot_flyer2world)\n",
    "    vel_cg_f = rot_world2flyer.dot(vel_cg2w_w)\n",
    "    yaw = bodyEulerAngles_w[2] # 3rd angle is yaw \n",
    "    propellor_angle = bladeIndex/totalNumBlades*2*np.pi + yaw\n",
    "    height_prop_below_flyer_cg = 0.1 # TODO\n",
    "    rot_flyer2prop_e = R.from_euler('z', propellor_angle).as_dcm()\n",
    "    angvel_b2w_f = rot_world2flyer.dot(angvel_b2w_w).dot(rot_flyer2world)\n",
    "    yawRate = angvel_b2w_f[2]\n",
    "    angVel_e2w_f = rot_world2flyer.dot(angvel_b2w_w + [0, 0, yawRate])\n",
    "    \n",
    "    relativeWind_zcomponent_e = (vel_cg_f[0] + angVel_e2w_f[1]*height_element2ref - \n",
    "                                bladeRadius*angVel_e2w_f[2])\n",
    "    relativeWind_xcomponent_e = (vel_cg_f[2] + bladeRadius*angVel_e2w_f[0] - \n",
    "                                inflowVelocity)\n",
    "    relWindAngleGamma = np.arctan2(relativeWind_xcomponent_e,relativeWind_xcomponent_e)\n",
    "    return (relativeWind_xcomponent_e, relativeWind_zcomponent_e, relWindAngleGamma)\n",
    "\n",
    "piccoliGetRelWind(vel_cg2w_w, bodyEulerAngles_w, bladeIndex, \n",
    "                      totalNumBlades, rot_flyer2world, inflowVelocity, bladeRadius,\n",
    "                      height_element2ref)"
   ]
  },
  {
   "cell_type": "code",
   "execution_count": null,
   "metadata": {},
   "outputs": [],
   "source": [
    "# Blade equations \n",
    "def getBladeForceMoment(rot_blade2world_w, v_wind_w):\n",
    "    \"\"\"Returns force and moment vectors of a single blade in the world frame\n",
    "        Arguements:\n",
    "            rot_blade2world_w: rotation matrix from the blade to the world frame in world frame\n",
    "            v_wind_w : velocity of wind in the world frame \n",
    "    \"\"\"\n",
    "    \n",
    "    \n",
    "    vel_wind_flyer = np.atan2()\n",
    "    \n",
    "    \n",
    "    "
   ]
  }
 ],
 "metadata": {
  "kernelspec": {
   "display_name": "Python 3",
   "language": "python",
   "name": "python3"
  },
  "language_info": {
   "codemirror_mode": {
    "name": "ipython",
    "version": 3
   },
   "file_extension": ".py",
   "mimetype": "text/x-python",
   "name": "python",
   "nbconvert_exporter": "python",
   "pygments_lexer": "ipython3",
   "version": "3.7.3"
  }
 },
 "nbformat": 4,
 "nbformat_minor": 2
}
