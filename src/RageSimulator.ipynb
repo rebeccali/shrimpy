{
 "cells": [
  {
   "cell_type": "markdown",
   "metadata": {},
   "source": [
    "# RageSimulator\n",
    "This simulator is written in rage against how awful the original Piccolissimo simulator is, and rewriting it. \n",
    "\n",
    "## Relevant Equations \n",
    "\n",
    "### Blade Equations \n",
    "$$\\gamma = arctan(\\frac{[v_E^I]^E [\\hat{z}]^E}{[v_E^I]^P [\\hat{x}]^E})$$\n",
    "\n",
    "\n",
    "## Relevant Parameters\n",
    "* $\\nu$ is the induced inflow velocity (Equation 3.1, thesis p.52)\n",
    "* $[v_E^I]^E$ is the relative wing in the propeller frame.\n",
    "The origin of the vehicle is unclear, but:\n",
    "* Center of gravity is relative to somewhere, probably from top of flyer?\n",
    "* Center of gravity is -2.71e-3 (2.71 mm above body origiin)\n",
    "\n",
    "## Code parameters\n",
    "\n",
    "* camelCase unless stated otherwise\n",
    "* Underscores for frames or for subscripts\n"
   ]
  },
  {
   "cell_type": "code",
   "execution_count": 2,
   "metadata": {},
   "outputs": [],
   "source": [
    "%matplotlib inline\n",
    "import numpy as np "
   ]
  },
  {
   "cell_type": "code",
   "execution_count": null,
   "metadata": {},
   "outputs": [],
   "source": [
    "# Blade equations \n",
    "def getBladeForceMoment(state):\n",
    "    \"\"\"Returns forcemoment of a single blade\"\"\"\n",
    "    \n",
    "    angVelBody_w = state.angVel\n",
    "    velBody_w = state.vel\n",
    "    span = 0:dSpan:R_max\n",
    "    \n",
    "    # Calculate the relative wind\n",
    "    rBody2Cg = np.array([0, 0, -2.71e-3]) # Negative z is down\n",
    "    rBody2CoPStabilizer = -rBody2Cg + np.array([0, 0, -2.56e-3]) # also called h_d or h, CoP is center of Pressure\n",
    "    heightBody2CoPStabilizer = rBody2CoPStabilizer[2]\n",
    "    velInf_z = velBody_w[1] + angVelBody_w[1]*heightBody2CoPStabilizer - span * angVelBody_w[2]\n",
    "    relativeWindAngleGamma = np.atan2(velInf_z, velInf_x)\n",
    "    "
   ]
  }
 ],
 "metadata": {
  "kernelspec": {
   "display_name": "Python 3",
   "language": "python",
   "name": "python3"
  },
  "language_info": {
   "codemirror_mode": {
    "name": "ipython",
    "version": 3
   },
   "file_extension": ".py",
   "mimetype": "text/x-python",
   "name": "python",
   "nbconvert_exporter": "python",
   "pygments_lexer": "ipython3",
   "version": "3.6.5"
  }
 },
 "nbformat": 4,
 "nbformat_minor": 2
}
