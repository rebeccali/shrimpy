{
 "cells": [
  {
   "cell_type": "markdown",
   "metadata": {},
   "source": [
    "# Piccolissimo Simulation\n",
    "This is a copy of FlyerOde.m from the repository in Uno/Simulator/Functions/FlyerODE.m\n",
    "\n",
    "It relies on the function ComputeAero.m in order to compute aerodynamic forces. \n",
    "\n",
    "This is hopefully sufficient just to simulate Piccolissimo.\n",
    "\n",
    "Our state vector is as follows:\n",
    "\n",
    "$$\\dot{X} = \\begin{bmatrix} \\dot{\\nu} \\\\ \\dot{\\mathbf{V}}_{cg} \\\\ \\dot{\\omega}_x \\\\ \\dot{\\omega}_y \\\\ 0 \\mathbf{\\dot{\\omega}_r} \\\\  \\dot{\\omega}_{zb} + \\dot{\\omega}_z \\\\ \\dot{\\theta} \\\\ \\omega_r \\\\ \\omega_b \\\\ \\mathbf{\\dot{X}_e} + \\mathbf{a}_{wind} \\\\ \\dot{i} \\end{bmatrix}$$\n",
    "\n",
    "* $\\nu$: \n",
    "* $\\dot{i} = 0$, appears unused\n",
    "* $\\dot{\\mathbf{V}}_{cg}$ is the cg acceleration in the flyer frame\n",
    "* $\\dot{\\omega}$ is the cg angular acceleration \n",
    "* \n",
    "\n"
   ]
  },
  {
   "cell_type": "code",
   "execution_count": null,
   "metadata": {},
   "outputs": [],
   "source": []
  }
 ],
 "metadata": {
  "kernelspec": {
   "display_name": "Python 3",
   "language": "python",
   "name": "python3"
  },
  "language_info": {
   "codemirror_mode": {
    "name": "ipython",
    "version": 3
   },
   "file_extension": ".py",
   "mimetype": "text/x-python",
   "name": "python",
   "nbconvert_exporter": "python",
   "pygments_lexer": "ipython3",
   "version": "3.6.5"
  }
 },
 "nbformat": 4,
 "nbformat_minor": 2
}
